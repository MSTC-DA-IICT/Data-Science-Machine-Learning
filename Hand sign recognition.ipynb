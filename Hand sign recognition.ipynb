{
 "cells": [
  {
   "cell_type": "code",
   "execution_count": 65,
   "metadata": {},
   "outputs": [],
   "source": [
    "import math\n",
    "import numpy as np\n",
    "import pandas as pd\n",
    "import h5py"
   ]
  },
  {
   "cell_type": "code",
   "execution_count": 66,
   "metadata": {},
   "outputs": [],
   "source": [
    "# Loading the dataset\n",
    "train_dataset = h5py.File('train_signs.h5', \"r\") #provide proper path\n",
    "train_set_x_orig = np.array(train_dataset[\"train_set_x\"][:]) \n",
    "train_set_y_orig = np.array(train_dataset[\"train_set_y\"][:]) \n",
    "\n",
    "test_dataset = h5py.File('test_signs.h5', \"r\")  #provide proper path\n",
    "test_set_x_orig = np.array(test_dataset[\"test_set_x\"][:]) \n",
    "test_set_y_orig = np.array(test_dataset[\"test_set_y\"][:]) "
   ]
  },
  {
   "cell_type": "markdown",
   "metadata": {},
   "source": [
    "#  Normalising data "
   ]
  },
  {
   "cell_type": "code",
   "execution_count": 67,
   "metadata": {},
   "outputs": [],
   "source": [
    "# Normalization of flat training images\n",
    "min = test_set_x_orig.min()\n",
    "max = test_set_x_orig.max()\n",
    "test_set_x_orig = (test_set_x_orig - min)/(max - min)"
   ]
  },
  {
   "cell_type": "code",
   "execution_count": 68,
   "metadata": {},
   "outputs": [],
   "source": [
    "# Normalization of flat test images\n",
    "min = test_set_y_orig.min()\n",
    "max = test_set_y_orig.max()\n",
    "test_set_y_orig = (test_set_y_orig - min)/(max - min)"
   ]
  },
  {
   "cell_type": "code",
   "execution_count": 40,
   "metadata": {},
   "outputs": [],
   "source": [
    "from keras.utils import to_categorical \n",
    "train_set_y_orig =to_categorical(train_set_y_orig)\n"
   ]
  },
  {
   "cell_type": "code",
   "execution_count": 42,
   "metadata": {},
   "outputs": [
    {
     "name": "stdout",
     "output_type": "stream",
     "text": [
      "(1080, 64, 64, 3)\n"
     ]
    }
   ],
   "source": [
    "print(train_set_x_orig.shape)"
   ]
  },
  {
   "cell_type": "code",
   "execution_count": 34,
   "metadata": {},
   "outputs": [],
   "source": [
    "import keras"
   ]
  },
  {
   "cell_type": "code",
   "execution_count": 47,
   "metadata": {},
   "outputs": [],
   "source": [
    "\n",
    "from keras.models import Sequential\n",
    "from keras.layers import Dense,Flatten,Conv2D,MaxPooling2D\n",
    "\n",
    "model = Sequential()\n",
    "model.add(Conv2D(32,(3,3), activation='relu',input_shape = (64,64,3)))\n",
    "model.add(MaxPooling2D((2,2)))\n",
    "model.add(Conv2D(64,(3,3), activation='relu'))\n",
    "model.add(MaxPooling2D((2,2)))\n",
    "model.add(Conv2D(128,(3,3), activation='relu'))\n",
    "model.add(Flatten())\n",
    "model.add(Dense(64, activation='relu'))\n",
    "model.add(Dense(6, activation='softmax'))\n",
    "\n",
    "        "
   ]
  },
  {
   "cell_type": "code",
   "execution_count": 50,
   "metadata": {},
   "outputs": [],
   "source": [
    "model.compile(optimizer='adam',loss='categorical_crossentropy',metrics=[\"accuracy\"])\n"
   ]
  },
  {
   "cell_type": "code",
   "execution_count": 51,
   "metadata": {
    "scrolled": true
   },
   "outputs": [
    {
     "name": "stdout",
     "output_type": "stream",
     "text": [
      "Epoch 1/15\n",
      "34/34 [==============================] - 8s 195ms/step - loss: 1.8602 - accuracy: 0.1861\n",
      "Epoch 2/15\n",
      "34/34 [==============================] - 6s 191ms/step - loss: 1.4274 - accuracy: 0.4399\n",
      "Epoch 3/15\n",
      "34/34 [==============================] - 6s 190ms/step - loss: 0.9981 - accuracy: 0.6593\n",
      "Epoch 4/15\n",
      "34/34 [==============================] - 7s 199ms/step - loss: 0.7210 - accuracy: 0.7503\n",
      "Epoch 5/15\n",
      "34/34 [==============================] - 7s 205ms/step - loss: 0.4762 - accuracy: 0.8378\n",
      "Epoch 6/15\n",
      "34/34 [==============================] - 6s 190ms/step - loss: 0.3939 - accuracy: 0.8554\n",
      "Epoch 7/15\n",
      "34/34 [==============================] - 7s 192ms/step - loss: 0.2636 - accuracy: 0.9112\n",
      "Epoch 8/15\n",
      "34/34 [==============================] - 7s 192ms/step - loss: 0.2421 - accuracy: 0.9225\n",
      "Epoch 9/15\n",
      "34/34 [==============================] - 6s 190ms/step - loss: 0.1335 - accuracy: 0.9598\n",
      "Epoch 10/15\n",
      "34/34 [==============================] - 7s 204ms/step - loss: 0.0751 - accuracy: 0.9786\n",
      "Epoch 11/15\n",
      "34/34 [==============================] - 7s 209ms/step - loss: 0.0547 - accuracy: 0.9846\n",
      "Epoch 12/15\n",
      "34/34 [==============================] - 7s 206ms/step - loss: 0.1368 - accuracy: 0.9578\n",
      "Epoch 13/15\n",
      "34/34 [==============================] - 8s 229ms/step - loss: 0.0531 - accuracy: 0.9881\n",
      "Epoch 14/15\n",
      "34/34 [==============================] - 7s 193ms/step - loss: 0.0155 - accuracy: 0.9996\n",
      "Epoch 15/15\n",
      "34/34 [==============================] - 7s 194ms/step - loss: 0.0295 - accuracy: 0.9908\n"
     ]
    },
    {
     "data": {
      "text/plain": [
       "<tensorflow.python.keras.callbacks.History at 0x186d2a81040>"
      ]
     },
     "execution_count": 51,
     "metadata": {},
     "output_type": "execute_result"
    }
   ],
   "source": [
    "model.fit(train_set_x_orig,train_set_y_orig,epochs=15)"
   ]
  },
  {
   "cell_type": "markdown",
   "metadata": {},
   "source": [
    "# train data accuracy = 99%"
   ]
  },
  {
   "cell_type": "code",
   "execution_count": 60,
   "metadata": {},
   "outputs": [],
   "source": [
    "test_set_y_orig = to_categorical(test_set_y_orig)"
   ]
  },
  {
   "cell_type": "code",
   "execution_count": 63,
   "metadata": {},
   "outputs": [],
   "source": [
    "_,acc = model.evaluate(test_set_x_orig,test_set_y_orig,verbose=0)\n",
    "    "
   ]
  },
  {
   "cell_type": "markdown",
   "metadata": {},
   "source": [
    "# TEST DATA ACCURACY"
   ]
  },
  {
   "cell_type": "code",
   "execution_count": 64,
   "metadata": {},
   "outputs": [
    {
     "name": "stdout",
     "output_type": "stream",
     "text": [
      "0.949999988079071\n"
     ]
    }
   ],
   "source": [
    "print(acc) "
   ]
  },
  {
   "cell_type": "code",
   "execution_count": 67,
   "metadata": {},
   "outputs": [],
   "source": [
    "Y_pred = model.predict(test_set_x_orig)"
   ]
  },
  {
   "cell_type": "code",
   "execution_count": 68,
   "metadata": {},
   "outputs": [],
   "source": [
    "y_pred = np.argmax(Y_pred,axis=1)"
   ]
  },
  {
   "cell_type": "markdown",
   "metadata": {},
   "source": [
    "# CONFUSION MATRIX "
   ]
  },
  {
   "cell_type": "code",
   "execution_count": 70,
   "metadata": {},
   "outputs": [],
   "source": [
    "from sklearn.metrics import ConfusionMatrixDisplay\n",
    "from sklearn.metrics import confusion_matrix"
   ]
  },
  {
   "cell_type": "code",
   "execution_count": 72,
   "metadata": {},
   "outputs": [],
   "source": [
    "matrix = confusion_matrix(np.argmax(test_set_y_orig,axis=1),y_pred)"
   ]
  },
  {
   "cell_type": "code",
   "execution_count": 73,
   "metadata": {},
   "outputs": [],
   "source": [
    "display = ConfusionMatrixDisplay(confusion_matrix=matrix,display_labels=[0,1,2,3,4,5])"
   ]
  },
  {
   "cell_type": "code",
   "execution_count": 74,
   "metadata": {},
   "outputs": [
    {
     "data": {
      "text/plain": [
       "<sklearn.metrics._plot.confusion_matrix.ConfusionMatrixDisplay at 0x186d7283640>"
      ]
     },
     "execution_count": 74,
     "metadata": {},
     "output_type": "execute_result"
    },
    {
     "data": {
      "image/png": "[encoded data removed]",
      "text/plain": [
       "<Figure size 432x288 with 2 Axes>"
      ]
     },
     "metadata": {
      "needs_background": "light"
     },
     "output_type": "display_data"
    }
   ],
   "source": [
    "display.plot()"
   ]
  },
  {
   "cell_type": "code",
   "execution_count": null,
   "metadata": {},
   "outputs": [],
   "source": []
  }
 ],
 "metadata": {
  "kernelspec": {
   "display_name": "Python 3",
   "language": "python",
   "name": "python3"
  },
  "language_info": {
   "codemirror_mode": {
    "name": "ipython",
    "version": 3
   },
   "file_extension": ".py",
   "mimetype": "text/x-python",
   "name": "python",
   "nbconvert_exporter": "python",
   "pygments_lexer": "ipython3",
   "version": "3.8.5"
  }
 },
 "nbformat": 4,
 "nbformat_minor": 4
}
