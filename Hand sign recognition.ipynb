{
 "cells": [
  {
   "cell_type": "code",
   "execution_count": 1,
   "metadata": {},
   "outputs": [],
   "source": [
    "import math\n",
    "import numpy as np\n",
    "import pandas as pd\n",
    "import h5py\n",
    "from matplotlib import pyplot as plt\n",
    "from tensorflow.keras.models import Sequential\n",
    "from tensorflow.math import confusion_matrix\n",
    "import keras\n",
    "from keras.layers.convolutional import Conv2D, MaxPooling2D\n",
    "from keras.losses import categorical_crossentropy\n",
    "from keras import  layers, models\n",
    "from keras.layers import Dense, Flatten, Flatten, BatchNormalization, Activation, Dropout\n",
    "import seaborn as sns\n",
    "from sklearn.metrics import f1_score, classification_report"
   ]
  },
  {
   "cell_type": "code",
   "execution_count": 2,
   "metadata": {},
   "outputs": [],
   "source": [
    "# Loading the dataset\n",
    "train_dataset = h5py.File('train_signs.h5', \"r\") #provide proper path\n",
    "train_set_x_orig = np.array(train_dataset[\"train_set_x\"][:]) \n",
    "train_set_y_orig = np.array(train_dataset[\"train_set_y\"][:]) \n",
    "\n",
    "test_dataset = h5py.File('test_signs.h5', \"r\")  #provide proper path\n",
    "test_set_x_orig = np.array(test_dataset[\"test_set_x\"][:]) \n",
    "test_set_y_orig = np.array(test_dataset[\"test_set_y\"][:]) "
   ]
  },
  {
   "cell_type": "code",
   "execution_count": 3,
   "metadata": {},
   "outputs": [
    {
     "data": {
      "image/png": "[encoded data removed]",
      "text/plain": [
       "<Figure size 432x288 with 1 Axes>"
      ]
     },
     "metadata": {
      "needs_background": "light"
     },
     "output_type": "display_data"
    }
   ],
   "source": [
    "plt.imshow(train_set_x_orig[1], interpolation='nearest')\n",
    "plt.show()"
   ]
  },
  {
   "cell_type": "code",
   "execution_count": 4,
   "metadata": {},
   "outputs": [],
   "source": [
    "X_train = train_set_x_orig / 255.0\n",
    "X_test = test_set_x_orig / 255.0"
   ]
  },
  {
   "cell_type": "code",
   "execution_count": 5,
   "metadata": {},
   "outputs": [
    {
     "name": "stdout",
     "output_type": "stream",
     "text": [
      "Model: \"sequential\"\n",
      "_________________________________________________________________\n",
      "Layer (type)                 Output Shape              Param #   \n",
      "=================================================================\n",
      "conv2d (Conv2D)              (None, 62, 62, 16)        448       \n",
      "_________________________________________________________________\n",
      "batch_normalization (BatchNo (None, 62, 62, 16)        64        \n",
      "_________________________________________________________________\n",
      "activation (Activation)      (None, 62, 62, 16)        0         \n",
      "_________________________________________________________________\n",
      "max_pooling2d (MaxPooling2D) (None, 31, 31, 16)        0         \n",
      "_________________________________________________________________\n",
      "conv2d_1 (Conv2D)            (None, 29, 29, 32)        4640      \n",
      "_________________________________________________________________\n",
      "batch_normalization_1 (Batch (None, 29, 29, 32)        128       \n",
      "_________________________________________________________________\n",
      "activation_1 (Activation)    (None, 29, 29, 32)        0         \n",
      "_________________________________________________________________\n",
      "max_pooling2d_1 (MaxPooling2 (None, 14, 14, 32)        0         \n",
      "_________________________________________________________________\n",
      "conv2d_2 (Conv2D)            (None, 12, 12, 64)        18496     \n",
      "_________________________________________________________________\n",
      "batch_normalization_2 (Batch (None, 12, 12, 64)        256       \n",
      "_________________________________________________________________\n",
      "activation_2 (Activation)    (None, 12, 12, 64)        0         \n",
      "_________________________________________________________________\n",
      "max_pooling2d_2 (MaxPooling2 (None, 6, 6, 64)          0         \n",
      "_________________________________________________________________\n",
      "flatten (Flatten)            (None, 2304)              0         \n",
      "_________________________________________________________________\n",
      "dense (Dense)                (None, 256)               590080    \n",
      "_________________________________________________________________\n",
      "dense_1 (Dense)              (None, 128)               32896     \n",
      "_________________________________________________________________\n",
      "dense_2 (Dense)              (None, 6)                 774       \n",
      "=================================================================\n",
      "Total params: 647,782\n",
      "Trainable params: 647,558\n",
      "Non-trainable params: 224\n",
      "_________________________________________________________________\n"
     ]
    }
   ],
   "source": [
    "# add your model here\n",
    "\n",
    "model = models.Sequential([\n",
    "    Conv2D(filters=16, kernel_size=(3, 3), activation='relu', input_shape=(64, 64, 3)),\n",
    "    BatchNormalization(),\n",
    "    Activation('relu'),\n",
    "    MaxPooling2D((2, 2)),\n",
    "    \n",
    "    Conv2D(filters=32, kernel_size=(3, 3), activation='relu', input_shape=(64, 64, 3)),\n",
    "    BatchNormalization(),\n",
    "    Activation('relu'),\n",
    "    MaxPooling2D((2, 2)),\n",
    "\n",
    "    Conv2D(filters=64, kernel_size=(3, 3), activation='relu', input_shape=(64, 64, 3)),\n",
    "    BatchNormalization(),\n",
    "    Activation('relu'),\n",
    "    MaxPooling2D((2, 2)),\n",
    "    \n",
    "    Flatten(),\n",
    "    \n",
    "    Dense(256, activation='relu'),\n",
    "\n",
    "    Dense(128, activation='relu'),\n",
    "\n",
    "    layers.Dense(6, activation='softmax')\n",
    "])\n",
    "\n",
    "model.compile(optimizer='adam',\n",
    "              loss='sparse_categorical_crossentropy',\n",
    "              metrics=['accuracy'])\n",
    "\n",
    "model.summary()"
   ]
  },
  {
   "cell_type": "code",
   "execution_count": 6,
   "metadata": {},
   "outputs": [
    {
     "name": "stdout",
     "output_type": "stream",
     "text": [
      "Epoch 1/25\n",
      "34/34 [==============================] - 4s 115ms/step - loss: 1.2892 - accuracy: 0.5426 - val_loss: 1.7909 - val_accuracy: 0.1667\n",
      "Epoch 2/25\n",
      "34/34 [==============================] - 3s 100ms/step - loss: 0.3186 - accuracy: 0.8963 - val_loss: 1.7918 - val_accuracy: 0.1667\n",
      "Epoch 3/25\n",
      "34/34 [==============================] - 3s 99ms/step - loss: 0.0841 - accuracy: 0.9824 - val_loss: 1.7919 - val_accuracy: 0.1667\n",
      "Epoch 4/25\n",
      "34/34 [==============================] - 3s 99ms/step - loss: 0.0280 - accuracy: 0.9954 - val_loss: 1.7911 - val_accuracy: 0.1667\n",
      "Epoch 5/25\n",
      "34/34 [==============================] - 4s 108ms/step - loss: 0.0088 - accuracy: 1.0000 - val_loss: 1.7898 - val_accuracy: 0.1750\n",
      "Epoch 6/25\n",
      "34/34 [==============================] - 4s 107ms/step - loss: 0.0043 - accuracy: 1.0000 - val_loss: 1.7866 - val_accuracy: 0.2500\n",
      "Epoch 7/25\n",
      "34/34 [==============================] - 4s 106ms/step - loss: 0.0025 - accuracy: 1.0000 - val_loss: 1.7799 - val_accuracy: 0.2250\n",
      "Epoch 8/25\n",
      "34/34 [==============================] - 4s 123ms/step - loss: 0.0018 - accuracy: 1.0000 - val_loss: 1.7641 - val_accuracy: 0.1833\n",
      "Epoch 9/25\n",
      "34/34 [==============================] - 4s 128ms/step - loss: 0.0014 - accuracy: 1.0000 - val_loss: 1.7264 - val_accuracy: 0.2167\n",
      "Epoch 10/25\n",
      "34/34 [==============================] - 4s 129ms/step - loss: 0.0010 - accuracy: 1.0000 - val_loss: 1.6471 - val_accuracy: 0.2750\n",
      "Epoch 11/25\n",
      "34/34 [==============================] - 4s 125ms/step - loss: 8.3698e-04 - accuracy: 1.0000 - val_loss: 1.4958 - val_accuracy: 0.4000\n",
      "Epoch 12/25\n",
      "34/34 [==============================] - 4s 129ms/step - loss: 7.0001e-04 - accuracy: 1.0000 - val_loss: 1.2417 - val_accuracy: 0.6083\n",
      "Epoch 13/25\n",
      "34/34 [==============================] - 4s 117ms/step - loss: 5.9555e-04 - accuracy: 1.0000 - val_loss: 0.9604 - val_accuracy: 0.7167\n",
      "Epoch 14/25\n",
      "34/34 [==============================] - 4s 115ms/step - loss: 4.8455e-04 - accuracy: 1.0000 - val_loss: 0.7042 - val_accuracy: 0.8167\n",
      "Epoch 15/25\n",
      "34/34 [==============================] - 4s 117ms/step - loss: 4.2405e-04 - accuracy: 1.0000 - val_loss: 0.5347 - val_accuracy: 0.8500\n",
      "Epoch 16/25\n",
      "34/34 [==============================] - 4s 114ms/step - loss: 3.7062e-04 - accuracy: 1.0000 - val_loss: 0.4220 - val_accuracy: 0.8833\n",
      "Epoch 17/25\n",
      "34/34 [==============================] - 4s 116ms/step - loss: 3.1369e-04 - accuracy: 1.0000 - val_loss: 0.3506 - val_accuracy: 0.9000\n",
      "Epoch 18/25\n",
      "34/34 [==============================] - 4s 121ms/step - loss: 2.9392e-04 - accuracy: 1.0000 - val_loss: 0.3124 - val_accuracy: 0.9167\n",
      "Epoch 19/25\n",
      "34/34 [==============================] - 4s 123ms/step - loss: 2.5429e-04 - accuracy: 1.0000 - val_loss: 0.2910 - val_accuracy: 0.9417\n",
      "Epoch 20/25\n",
      "34/34 [==============================] - 5s 141ms/step - loss: 2.1951e-04 - accuracy: 1.0000 - val_loss: 0.2688 - val_accuracy: 0.9417\n",
      "Epoch 21/25\n",
      "34/34 [==============================] - 6s 166ms/step - loss: 2.0081e-04 - accuracy: 1.0000 - val_loss: 0.2629 - val_accuracy: 0.9333\n",
      "Epoch 22/25\n",
      "34/34 [==============================] - 5s 158ms/step - loss: 1.7511e-04 - accuracy: 1.0000 - val_loss: 0.2628 - val_accuracy: 0.9417\n",
      "Epoch 23/25\n",
      "34/34 [==============================] - 6s 170ms/step - loss: 1.6128e-04 - accuracy: 1.0000 - val_loss: 0.2594 - val_accuracy: 0.9417\n",
      "Epoch 24/25\n",
      "34/34 [==============================] - 5s 154ms/step - loss: 1.4650e-04 - accuracy: 1.0000 - val_loss: 0.2568 - val_accuracy: 0.9417\n",
      "Epoch 25/25\n",
      "34/34 [==============================] - 6s 167ms/step - loss: 1.3240e-04 - accuracy: 1.0000 - val_loss: 0.2633 - val_accuracy: 0.9417\n"
     ]
    },
    {
     "data": {
      "text/plain": [
       "<tensorflow.python.keras.callbacks.History at 0x18d84a9ed00>"
      ]
     },
     "execution_count": 6,
     "metadata": {},
     "output_type": "execute_result"
    }
   ],
   "source": [
    "model.fit(X_train, train_set_y_orig, epochs=25,\n",
    "       validation_data= (X_test,test_set_y_orig))"
   ]
  },
  {
   "cell_type": "code",
   "execution_count": 7,
   "metadata": {},
   "outputs": [
    {
     "name": "stdout",
     "output_type": "stream",
     "text": [
      "4/4 [==============================] - 0s 37ms/step - loss: 0.2633 - accuracy: 0.9417\n",
      "Test Accuracy: 0.9416666626930237\n"
     ]
    }
   ],
   "source": [
    "loss, acc = model.evaluate(X_test,test_set_y_orig)\n",
    "print('Test Accuracy:', acc)"
   ]
  },
  {
   "cell_type": "code",
   "execution_count": 8,
   "metadata": {},
   "outputs": [],
   "source": [
    "#saving the model\n",
    "\n",
    "model.save('model_cnn.h5')"
   ]
  },
  {
   "cell_type": "code",
   "execution_count": 9,
   "metadata": {},
   "outputs": [],
   "source": [
    "#load saved model\n",
    "\n",
    "loaded_model = models.load_model('model_cnn.h5')"
   ]
  },
  {
   "cell_type": "code",
   "execution_count": 8,
   "metadata": {},
   "outputs": [],
   "source": [
    "y_pred = model.predict(X_test)\n",
    "y_predicted_labels = np.array([np.argmax(i) for i in y_pred])"
   ]
  },
  {
   "cell_type": "code",
   "execution_count": 9,
   "metadata": {},
   "outputs": [
    {
     "data": {
      "text/plain": [
       "Text(69.0, 0.5, 'Truth')"
      ]
     },
     "execution_count": 9,
     "metadata": {},
     "output_type": "execute_result"
    },
    {
     "data": {
      "image/png": "[encoded data removed]",
      "text/plain": [
       "<Figure size 720x504 with 2 Axes>"
      ]
     },
     "metadata": {
      "needs_background": "light"
     },
     "output_type": "display_data"
    }
   ],
   "source": [
    "cm = confusion_matrix(test_set_y_orig, y_predicted_labels)\n",
    "plt.figure(figsize = (10,7))\n",
    "sns.heatmap(cm, annot=True, fmt='d', cmap='Blues')\n",
    "plt.xlabel('Predicted', color='r')\n",
    "plt.ylabel('Truth',color='g')"
   ]
  },
  {
   "cell_type": "code",
   "execution_count": 10,
   "metadata": {},
   "outputs": [
    {
     "name": "stdout",
     "output_type": "stream",
     "text": [
      "0.9416666666666667\n"
     ]
    }
   ],
   "source": [
    "f1s = f1_score(test_set_y_orig, y_predicted_labels, average = 'micro')\n",
    "print(f1s)"
   ]
  },
  {
   "cell_type": "markdown",
   "metadata": {},
   "source": [
    "## Classification Report"
   ]
  },
  {
   "cell_type": "code",
   "execution_count": 11,
   "metadata": {},
   "outputs": [
    {
     "name": "stdout",
     "output_type": "stream",
     "text": [
      "              precision    recall  f1-score   support\n",
      "\n",
      "           0       0.95      1.00      0.98        20\n",
      "           1       0.87      1.00      0.93        20\n",
      "           2       0.89      0.85      0.87        20\n",
      "           3       0.95      1.00      0.98        20\n",
      "           4       1.00      0.85      0.92        20\n",
      "           5       1.00      0.95      0.97        20\n",
      "\n",
      "    accuracy                           0.94       120\n",
      "   macro avg       0.94      0.94      0.94       120\n",
      "weighted avg       0.94      0.94      0.94       120\n",
      "\n"
     ]
    }
   ],
   "source": [
    "print(classification_report(test_set_y_orig,y_predicted_labels));"
   ]
  }
 ],
 "metadata": {
  "kernelspec": {
   "display_name": "ML environment",
   "language": "python",
   "name": "mlenv"
  },
  "language_info": {
   "codemirror_mode": {
    "name": "ipython",
    "version": 3
   },
   "file_extension": ".py",
   "mimetype": "text/x-python",
   "name": "python",
   "nbconvert_exporter": "python",
   "pygments_lexer": "ipython3",
   "version": "3.8.8"
  }
 },
 "nbformat": 4,
 "nbformat_minor": 4
}
